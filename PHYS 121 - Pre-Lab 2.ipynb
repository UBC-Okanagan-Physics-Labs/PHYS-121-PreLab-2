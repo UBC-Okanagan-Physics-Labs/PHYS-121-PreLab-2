{
 "cells": [
  {
   "cell_type": "markdown",
   "id": "aa3c17b0",
   "metadata": {
    "deletable": false,
    "editable": false,
    "slideshow": {
     "slide_type": ""
    },
    "tags": []
   },
   "source": [
    "# <div style=\"background-color:rgba(204, 229, 255, 0.5); text-align:center; vertical-align: middle; padding:40px 0; margin-top:30px\"><span style=\"color:rgba(0, 76, 153, 1);\">**PHYS 121 Pre-Lab #2**<span style=\"color:red\"> $\\to$ (4 possible marks)</span> </span></div> \n",
    "\n",
    "<font size =\"4\"><span style=\"color:purple\">We recommend that you complete this notebook using either the [Google Chrome](https://www.google.com/intl/en_ca/chrome/) or [Mozilla Firefox](https://www.mozilla.org/en-CA/firefox/new/) browser.  Chrome and Firefox are both available for Windows, Mac, and Linux operating systems.  The PHYS 121 Jupyter notebooks should work in other browsers, but we have specifically verified that they work well in both Chrome and Firefox.</span></font>\n",
    "\n",
    "# Simulating the Physics of a Pendulum"
   ]
  },
  {
   "cell_type": "markdown",
   "id": "fc4bdbef",
   "metadata": {
    "deletable": false,
    "editable": false,
    "slideshow": {
     "slide_type": ""
    },
    "tags": []
   },
   "source": [
    "***\n",
    "## Learning Objectives:\n",
    "* <b><span style=\"color:rgba(0, 153, 76, 1);\">Compare and constrast some aspects of linear and rotational motion.</span></b>\n",
    "* <b><span style=\"color:rgba(0, 153, 76, 1);\">Use a computational model to study the dynamics of a physical system.  Use the observations to make informed predictions about the expected behaviour of an experiment.</span></b>\n",
    "* <b><span style=\"color:rgba(0, 153, 76, 1);\">Think of some other physical properties of the pendulum that could be investigated using computer simulations.</span></b>"
   ]
  },
  {
   "cell_type": "markdown",
   "id": "6f26316d",
   "metadata": {
    "deletable": false,
    "editable": false,
    "slideshow": {
     "slide_type": ""
    },
    "tags": []
   },
   "source": [
    "***\n",
    "## Autograding:\n",
    "The PHYS 121 Pre-lab assignments and Labs will make use of some autograding.  To make the autograding work, the two cells below need to be executed.  The first one installs the required packages and the second imports required packages/modules.  If 'PHYS121.Installer()' reports that some functions have been installed, the user should execute the PHYS121.Installer() cell a second time.  The second time the installer function is run, it should report that **\"All packages already installed. Please proceed\"**.\n",
    "\n",
    "If necessary, the kernel can be restarted by selecting **Kernel** $\\to$ **Restart Kernel** from the menu options at to the top of the page.  Here is a <a href = \"https://raw.githubusercontent.com/UBC-Okanagan-Physics-Labs/PHYS-121-images/main/general/gifs/restartKernel.gif\">GIF</a> showing how to restart the kernel.\n",
    "\n",
    "The 'PHYS121.Installer()' command requires the file 'PHYS121.py', which you should see included in the list of files along the left-hand side of the screen."
   ]
  },
  {
   "cell_type": "code",
   "execution_count": null,
   "id": "927708e9",
   "metadata": {
    "deletable": false,
    "editable": false,
    "slideshow": {
     "slide_type": ""
    },
    "tags": []
   },
   "outputs": [],
   "source": [
    "# Hide unnecessary warnings.\n",
    "import warnings\n",
    "warnings.filterwarnings('ignore')\n",
    "\n",
    "# Import PHYS121.py and then run the installer function.\n",
    "import PHYS121\n",
    "PHYS121.Installer()"
   ]
  },
  {
   "cell_type": "code",
   "execution_count": null,
   "id": "1f0259bf",
   "metadata": {
    "deletable": false,
    "editable": false,
    "slideshow": {
     "slide_type": ""
    },
    "tags": []
   },
   "outputs": [],
   "source": [
    "# Initialize Otter\n",
    "import otter\n",
    "grader = otter.Notebook(\"PHYS 121 - Pre-Lab 2.ipynb\")"
   ]
  },
  {
   "cell_type": "markdown",
   "id": "feae891a",
   "metadata": {
    "deletable": false,
    "editable": false,
    "slideshow": {
     "slide_type": ""
    },
    "tags": []
   },
   "source": [
    "***\n",
    "## Import Modules:\n",
    "Execute the cell below to import a number of useful pre-built Python modules that will be used in the PHYS 121 pre-labs and labs."
   ]
  },
  {
   "cell_type": "code",
   "execution_count": null,
   "id": "59751bb4",
   "metadata": {
    "deletable": false,
    "editable": false,
    "slideshow": {
     "slide_type": ""
    },
    "tags": []
   },
   "outputs": [],
   "source": [
    "import numpy as np\n",
    "import matplotlib.pyplot as plt\n",
    "import pandas as pd\n",
    "from matplotlib.pyplot import cm # used to generate a sequence of colours for plotting\n",
    "from scipy.optimize import curve_fit\n",
    "from IPython.display import HTML as html_print\n",
    "from IPython.display import display, Markdown, Latex\n",
    "from IPython.display import YouTubeVideo\n",
    "import math\n",
    "import sys"
   ]
  },
  {
   "cell_type": "code",
   "execution_count": null,
   "id": "004694ca-025c-4ebe-9de4-0ecdc90fc58b",
   "metadata": {
    "editable": false,
    "slideshow": {
     "slide_type": ""
    },
    "tags": []
   },
   "outputs": [],
   "source": [
    "PHYS121.graderCheck(['PHYS121' in sys.modules, 'PHYS121' in sys.modules, 'numpy' in sys.modules], ['PHYS121', 'otter', 'numpy'], grader.check('q0.1'))"
   ]
  },
  {
   "cell_type": "markdown",
   "id": "e69b2030",
   "metadata": {
    "deletable": false,
    "editable": false,
    "slideshow": {
     "slide_type": ""
    },
    "tags": []
   },
   "source": [
    "# <div style=\"background-color:rgba(255, 204, 255, 0.5); text-align:center; vertical-align: middle; padding:40px 0; margin-top:30px\"><span style=\"color:rgba(102, 0, 204, 1);\">Part 1 - Introduction (5 minutes)</span></div>\n",
    "\n",
    "Research in physics, and other disciplines within the sciences, can often be classified as *experimental*, *theoretical*, *computational*, or some hybrid of these domains.  Astronomers may wish to include *observation* has another classification of physics research.  **Figure 1** shows a Venn diagram that attempts to illustrate the relationships between these three major research methodologies.   \n",
    "\n",
    "<p>\n",
    "<center>\n",
    "<img src=\"https://raw.githubusercontent.com/UBC-Okanagan-Physics-Labs/PHYS-121-images/fb5c3ba5ce64f5dc889d36c08c3710710452760d/Pre-Lab-2/images/ven.svg\" width=\"500\"><br>\n",
    "<b>Fig. 1: The three major forms of physics research and how they relate to one another. Image based on a figure from the <a href=\"https://www.spsnational.org/the-sps-observer/spring/2015/theory-experiment\">Society of Physics Students</a>.</b>\n",
    "</center>\n",
    "</p>\n",
    "\n",
    "Although the interplay between all of the various forms of research is critical to scientific progress, it is experiment that ultimately determines the laws of physics that govern the universe.  This point was simply and eloquently made by theoretical physicist Richard Feynman in 1961 when delivering the now famous \"Feynman Lectures on Physics\". \n",
    "<style>\n",
    "td, th {\n",
    "   border: none!important;\n",
    "}\n",
    "</style>\n",
    "\n",
    "<center>\n",
    "<table border = 0>\n",
    "<tr>\n",
    "<td width = 335>\n",
    "<center>\n",
    "<img src=\"https://raw.githubusercontent.com/UBC-Okanagan-Physics-Labs/PHYS-121-images/main/Pre-Lab-2/images/RichardFeynman-PaineMansionWoods1984_copyrightTamikoThiel_bw.jpg\" width=\"280\"><br>\n",
    "<b>Fig. 2: Richard Feynman (1984).</b><br>\n",
    "<b>Image taken from <a href=\"https://commons.wikimedia.org/wiki/File:RichardFeynman-PaineMansionWoods1984_copyrightTamikoThiel_bw.jpg\">Wikimedia Commons</a>.</b>\n",
    "</center>\n",
    "</td>\n",
    "<td width = 300>\n",
    "The principle of science, the definition, almost, is the following: The test of all knowledge is experiment. Experiment is the sole judge of scientific “truth.” But what is the source of knowledge? Where do the laws that are to be tested come from? Experiment, itself, helps to produce these laws, in the sense that it gives us hints. But also needed is imagination to create from these hints the great generalizations—to guess at the wonderful, simple, but very strange patterns beneath them all, and then to experiment to check again whether we have made the right guess. This imagining process is so difficult that there is a division of labor in physics: there are theoretical physicists who imagine, deduce, and guess at new laws, but do not experiment; and then there are experimental physicists who experiment, imagine, deduce, and guess.\n",
    " <br><p> From <a href = \"https://www.feynmanlectures.caltech.edu/\">\"The Feynmen Lectures on Physics\"</a>. <br>Specifically, see <a href = \"https://www.feynmanlectures.caltech.edu/I_01.html\">Volume 1, Chapter 1</a>.\n",
    "</td>\n",
    "</tr>\n",
    "</table>\n",
    "</center>\n",
    "\n",
    "The motivations for this pre-lab are as follows:\n",
    " - **Provide a simple and brief introduction to computational methods without requiring sophisticated coding/syntax.**\n",
    "   - The lectures introduce theoretical reasoning, the labs introduce experimental methods, this pre-lab provides a first glimpse into computational methods.\n",
    "   - Later in the term, when discussing $RC$ circuits, we'll again use simple computational methods to help gain some insights into the nature of these circuits. \n",
    " - **Review some aspects of rotational/circular motion.** \n",
    "   - Closer to the end of term, we'll see that a charge moving through a uniform magnetic field undergoes uniform circular motion.  A review of rotational motion will help prepare us for this topic.\n",
    " - **Use insights from this computational pre-lab to make predictions about what we should expect to see in Lab #2.** \n",
    "    - The purpose of a computational study/simulation is to help inform/motivate the theories and models that physicists develop to describe nature.  These models then need to be tested experimentally.  \n",
    "    - To keep pace with our ever-increasing knowledge of various physical systems, it is usually the case that theories, models, and experiments undergo multiple iterative revisions.  These revisions can, for example, be used to incorporate subtle details that were overlooked in the initial models."
   ]
  },
  {
   "cell_type": "markdown",
   "id": "b5820ada-953b-4108-8aa9-3ce256acd739",
   "metadata": {
    "deletable": false,
    "editable": false,
    "slideshow": {
     "slide_type": ""
    },
    "tags": []
   },
   "source": [
    "# <div style=\"background-color:rgba(255, 204, 255, 0.5); text-align:center; vertical-align: middle; padding:40px 0; margin-top:30px\"><span style=\"color:rgba(102, 0, 204, 1);\">Part 2 - Mass on a Spring vs Simple Pendulum (15 minutes)</span></div>\n",
    "\n",
    "**Figure 3** shows a pair of side-by-side gifs.\n",
    "<p>\n",
    "<center>\n",
    "<img src=\"https://raw.githubusercontent.com/UBC-Okanagan-Physics-Labs/PHYS-121-images/main/Pre-Lab-2/gifs/mass%20on%20a%20spring.gif\" width=\"228\"/> &nbsp;&nbsp;&nbsp;&nbsp; <img src=\"https://raw.githubusercontent.com/UBC-Okanagan-Physics-Labs/PHYS-121-images/main/Pre-Lab-2/gifs/AnimatedPendulum.gif\" width=\"350\"/><br>\n",
    "<b>Fig. 3: Left: Gif of a mass suspended vertically from a spring. Taken and modified from <a href=\"https://commons.wikimedia.org/wiki/File:Federpendel.gif\">Wikimedia Commons</a>.<br>\n",
    "Right: Gif of a simple pendulum.  Taken from <a href=\"https://commons.wikimedia.org/wiki/File:AnimatedPendulum.gif\">Wikimedia Commons</a>.</b>\n",
    "</center>\n",
    "</p>\n",
    "\n",
    "On the left, is a mass suspended from a spring.  If the spring is stretched or compressed a distance $s_0$ from its equilibrium position (zero on the $s(t)$ line) and then released, it begins to oscillate along the vertical direction.  The gif shows the restoring force $F_\\mathrm{R} = -k s$ as the position of mass $m$ varies along the $s(t)$ axis.  Not shown in the gif is the constant downwards gravitational force. \n",
    " - When the spring is compressed ($s>0$), the restoring force points downwards ($F_\\mathrm{R}<0$).  \n",
    " - When the spring is stretched ($s<0$), the restoring force points upwards ($F_\\mathrm{R}>0$)  \n",
    " - The restoring force is largest when the mass is furthest from its equilibrium position and moving slowly.\n",
    " - The restoring force is the smallest when the mass is passing through its equilibrium position and moving quickly.\n",
    "\n",
    "\n",
    "On the right is a simple pendulum (a bob of mass $m$ suspended from a massless string).  If the mass is displaced from its equilibrium position (hanging vertically) by an angle $\\alpha_0$ and then released, it begins to oscillate back and forth along a section of a circular arc of radius $\\ell$.  This time, the gif shows the constant downwards gravitational force $mg$ and the components of the gravitational force that are perpendicular and tangent to the circular arc.  Not shown is the tension force that is always parallel to the string and pointing away from the mass.  This tension always exactly cancels the perpendicular component of $m\\vec{g}$.  As a result, the motion of the pendulum is determined entirely by $mg_\\parallel = mg\\sin\\alpha$.  This force is a restoring force because, when the pendulum is displaced to the right (left), $mg_\\parallel$ is directed to the left (right).  \n",
    " - When $\\alpha>0$ (mass is to the right of vertical), the restoring force is to the left ($mg_\\parallel<0$).  \n",
    " - When $\\alpha<0$ (mass is to the left of vertical), the restoring force is to the right ($mg_\\parallel>0$).  \n",
    " - The restoring force is largest when the mass is furthest from its equilibrium position and moving slowly.\n",
    " - The restoring force is the smallest when the mass is passing through its equilibrium position and moving quickly.\n",
    "\n",
    "With these similarities in mind, we can do a side-by-side analysis of the equations of motions (Newton's 2nd Law, $\\vec{F}_\\mathrm{net} = m\\vec{a}$) that govern these two physical systems.\n",
    "\n",
    "\n",
    "\n",
    "<style>\n",
    "td, th {\n",
    "   border: none!important;\n",
    "}\n",
    "</style>\n",
    "\n",
    "\n",
    "\n",
    "| <div style=\"width:190px\">&nbsp;</div> |<div style=\"width:190px\"><b>Mass on a spring</b></div>|<div style=\"width:190px\"><b>Simple pendulum</b></div>|\n",
    "|---------------:|:----------------------:|:---------------------:|\n",
    "| Newton's 2nd Law |$ma = -ks$            | $ma_\\mathrm{t} = -mg\\sin\\alpha$|\n",
    "| divide by $m$ |$a = -\\dfrac{k}{m}s$            | $a_\\mathrm{t} = -g\\sin\\alpha$|\n",
    "\n",
    "\n",
    "\n",
    "In the above table, we have adopted the notation $a_\\mathrm{t}$ for the pendulum to emphasize that this is an acceleration in the *tangential* direction.\n",
    "\n",
    "Recall that, for linear motion:\n",
    "\n",
    "\\begin{equation}\n",
    "a = \\frac{dv}{dt} = \\frac{d^2s}{dt^2}.\n",
    "\\tag{1}\n",
    "\\end{equation}\n",
    "\n",
    "For the pendulum, the position $x$ along the circular arc is given by $x = \\ell\\alpha$.  Therefore:\n",
    "\n",
    "\\begin{equation}\n",
    "a_\\mathrm{t} = \\frac{d^2 x}{dt^2} = \\ell\\frac{d^2\\alpha}{dt^2}.\n",
    "\\tag{2}\n",
    "\\end{equation}\n",
    "\n",
    "Since $\\ell$ is a constant (the radius of the circular arc), it could be factored out of the derivative.\n",
    "\n",
    "Returning to the side-by-side analysis of the equations of motion, we now have...\n",
    "\n",
    "<style>\n",
    "td, th {\n",
    "   border: none!important;\n",
    "}\n",
    "</style>\n",
    "\n",
    "\n",
    "\n",
    "| <div style=\"width:190px\">&nbsp;</div> |<div style=\"width:190px\"><b>Mass on a spring</b></div>|<div style=\"width:190px\"><b>Simple pendulum</b></div>|\n",
    "|---------------:|:----------------------:|:---------------------:|\n",
    "| Newton's 2nd Law |$ma = -ks$            | $ma_\\mathrm{t} = -mg\\sin\\alpha$|\n",
    "| divide by $m$ |$a = -\\dfrac{k}{m}s$            | $a_\\mathrm{t} = -g\\sin\\alpha$|\n",
    "|sub in Eqs. $(1)$ and $(2)$ | $\\dfrac{d^2s}{ds^2} = -\\dfrac{k}{m}s$ | $\\ell\\dfrac{d^2\\alpha}{dt^2} = -g\\sin\\alpha$|\n",
    "|for the pendulum, divide by $\\ell$ | <img src=\"https://raw.githubusercontent.com/UBC-Okanagan-Physics-Labs/PHYS-121-images/fd6cf0b0b649a2f3d64eb91ff7fe810b3e1cc4e9/Pre-Lab-2/images/UpArrow.svg\" width=\"35\"/> | $\\dfrac{d^2\\alpha}{dt^2} = -\\dfrac{g}{\\ell}\\sin\\alpha$|\n",
    "| replace the constants on the right with $\\omega_0^2$ | $\\dfrac{d^2s}{ds^2} = -\\omega_0^2 s$ | $\\dfrac{d^2\\alpha}{dt^2} = -\\omega_0^2\\sin\\alpha$|\n",
    "\n",
    "\n",
    "\n",
    "Note that both of the ratios $k/m$ and $g/\\ell$ are constants.  In the last row of the above table, we've made the substitutions $\\omega_0^2=k/m$ for the mass on a spring and $\\omega_0^2 = g/\\ell$ for the pendulum.  To make the two equations of motion equivalent, the final step is to make use of the small angle approximation $\\sin\\alpha\\approx\\alpha$ for the pendulum. \n",
    "\n",
    "<style>\n",
    "td, th {\n",
    "   border: none!important;\n",
    "}\n",
    "</style>\n",
    "\n",
    "\n",
    "\n",
    "| <div style=\"width:190px\">&nbsp;</div> |<div style=\"width:190px\"><b>Mass on a spring</b></div>|<div style=\"width:190px\"><b>Simple pendulum</b></div>|\n",
    "|---------------:|:----------------------:|:---------------------:|\n",
    "| Newton's 2nd Law |$ma = -ks$            | $ma_\\mathrm{t} = -mg\\sin\\alpha$|\n",
    "| divide by $m$ |$a = -\\dfrac{k}{m}s$            | $a_\\mathrm{t} = -g\\sin\\alpha$|\n",
    "|sub in Eqs. $(1)$ and $(2)$ | $\\dfrac{d^2s}{ds^2} = -\\dfrac{k}{m}s$ | $\\ell\\dfrac{d^2\\alpha}{dt^2} = -g\\sin\\alpha$|\n",
    "|for the pendulum, divide by $\\ell$ | <img src=\"https://raw.githubusercontent.com/UBC-Okanagan-Physics-Labs/PHYS-121-images/fd6cf0b0b649a2f3d64eb91ff7fe810b3e1cc4e9/Pre-Lab-2/images/UpArrow.svg\" width=\"35\"/> | $\\dfrac{d^2\\alpha}{dt^2} = -\\dfrac{g}{\\ell}\\sin\\alpha$|\n",
    "| replace the constants on the right with $\\omega_0^2$ | $\\dfrac{d^2s}{ds^2} = -\\omega_0^2 s$ | $\\dfrac{d^2\\alpha}{dt^2} = -\\omega_0^2\\sin\\alpha$|\n",
    "| sub $\\sin\\alpha\\approx\\alpha$ for the pendulum | <img src=\"https://raw.githubusercontent.com/UBC-Okanagan-Physics-Labs/PHYS-121-images/fd6cf0b0b649a2f3d64eb91ff7fe810b3e1cc4e9/Pre-Lab-2/images/UpArrow.svg\" width=\"35\"/> | $\\dfrac{d^2\\alpha}{dt^2} \\approx -\\omega_0^2\\alpha$ &nbsp;&nbsp;&nbsp;($\\alpha$ small)|\n",
    "    \n",
    "\n",
    "    \n",
    "\n",
    "We now have a pair of equations of motion that are mathematically identical.  For the mass-spring system, $\\dfrac{d^2 s}{dt^2} = - \\omega_0^2 s$ can be solved for $s(t)$ which describes the position of the mass as a function of time.  Likewise, $\\dfrac{d^2 \\alpha}{dt^2} = - \\omega_0^2 \\alpha$ can be solved for $\\alpha(t)$ which describes the angular position of the mass as a function of time for the pendulum.  The solutions, which you can verify by subbing into the equations of motion, are:\n",
    "    \n",
    "\\begin{align}\n",
    "s &= s_0\\cos\\left(\\omega_0 t\\right)\\\\\n",
    "\\alpha &\\approx \\alpha_0\\cos\\left(\\omega_0 t\\right)\\qquad (\\alpha\\rm\\ small)\n",
    "\\end{align}\n",
    "\n",
    "\n",
    "    \n",
    "The coefficients $s_0$ and $\\alpha_0$ are the amplitudes of the oscillations and are determined by the initial displacements away from the equilibrium positions at $t = 0$. **Figure 4** shows a plot of $\\alpha$ versus $\\omega_0 t$.  \n",
    "\n",
    "<p>\n",
    "<center>\n",
    "<img src=\"https://raw.githubusercontent.com/UBC-Okanagan-Physics-Labs/PHYS-121-images/main/Pre-Lab-2/images/cosFcn.jpg\" width=\"525\"/><br>\n",
    "<b>Fig. 4: A plot of $\\alpha(t) = \\alpha_0\\cos\\left(\\omega_0 t\\right)$ versus $\\omega_0 t$.  Valid for small $\\alpha$.</b>\n",
    "</center>\n",
    "</p>\n",
    "    \n",
    "The time it takes the pendulum complete one full cycle ($\\alpha = \\alpha_0\\to 0\\to -\\alpha_0\\to 0\\to\\alpha_0$) is called the period $T$.  As shown in **Fig. 4**, starting from $t = 0$, one full cycle completes when $\\omega_0 T = 2\\pi$.  Solving for the period reveals that $T =\\dfrac{2\\pi}{\\omega_0}$.  Subbing in the definitions of $\\omega_0$ gives:\n",
    "    \n",
    "\\begin{align}\n",
    "T &= 2\\pi\\sqrt{\\dfrac{m}{k}}\\qquad\\rm (mass/spring~system)\\tag{3}\\\\\n",
    "T &\\approx 2\\pi\\sqrt{\\dfrac{\\ell}{g}}\\qquad(\\mathrm{pendulum~system,~small}~\\alpha).\\tag{4}\n",
    "\\end{align}\n",
    "\n",
    "Equation $(4)$ is only an approximate solution for the period of a pendulum valid when oscillation amplitude is small.  The goal of Lab #2 will be to experimentally search for deviations from this approximate solution.  Precision measurements of the period $T$ will be required to convincingly find these deviations.  As you demonstrated in Lab #1, one way to increase the precision of the measurements is to conduct many repeated trials.  One of the goals of this pre-lab is to try to make some educated predictions about what you should expect to observe in Lab #2,   \n"
   ]
  },
  {
   "cell_type": "markdown",
   "id": "ae23f518",
   "metadata": {
    "deletable": false,
    "editable": false,
    "slideshow": {
     "slide_type": ""
    },
    "tags": []
   },
   "source": [
    "***\n",
    "**<span style=\"color:blue\">Question 2.1:</span>** **<span style=\"color:red\">(1 mark)</span>**\n",
    "\n",
    "The small angle approximation that we made use of when deriving Eq. $(4)$ is $\\sin\\alpha\\approx\\alpha$.  Although the approximation is very good for small $\\alpha$, it is always the case that $\\sin\\alpha<\\alpha$.  Returning to the tangential acceleration for the pendulum, the exact expression is: \n",
    "\\begin{equation}\n",
    "a_\\mathrm{t, exact}=-g\\sin\\alpha\n",
    "\\end{equation}\n",
    "and the approximate expression is:\n",
    "\\begin{equation}\n",
    "a_\\mathrm{t, approx}=-g\\alpha.\n",
    "\\end{equation}\n",
    "\n",
    "Given that $\\sin\\alpha<\\alpha$, which of the following statements is correct?\n",
    "- (a) $a_\\mathrm{t, exact} > a_\\mathrm{t, approx}$\n",
    "- (b) $a_\\mathrm{t, exact} < a_\\mathrm{t, approx}$\n",
    "- (c) $a_\\mathrm{t, exact} = a_\\mathrm{t, approx}$"
   ]
  },
  {
   "cell_type": "markdown",
   "id": "6f031e93-7807-41f1-86ca-fae88f5f1c94",
   "metadata": {
    "deletable": false,
    "editable": false,
    "slideshow": {
     "slide_type": ""
    },
    "tags": []
   },
   "source": [
    "**<span style=\"color:blue\">Answer 2.1</span>**  \n",
    "Replace the ... in the cell below with your answer.  Your answer should be a single character ('a', 'b', or 'c') between single or double quotes.  \n",
    "*** Please do not change anything to the left of the equals sign. ***"
   ]
  },
  {
   "cell_type": "code",
   "execution_count": null,
   "id": "9907d166-a97d-4695-88f6-c85461b68281",
   "metadata": {
    "tags": []
   },
   "outputs": [],
   "source": [
    "a2_1 = ..."
   ]
  },
  {
   "cell_type": "code",
   "execution_count": null,
   "id": "e1ce7c3d-b720-40eb-a395-d3f8b03ea618",
   "metadata": {
    "deletable": false,
    "editable": false,
    "slideshow": {
     "slide_type": ""
    },
    "tags": []
   },
   "outputs": [],
   "source": [
    "PHYS121.graderCheck([a2_1], ['a2_1'], grader.check('q2.1'))"
   ]
  },
  {
   "cell_type": "markdown",
   "id": "f68ab808-04ef-4931-9310-803d1beb3a23",
   "metadata": {
    "deletable": false,
    "editable": false,
    "slideshow": {
     "slide_type": ""
    },
    "tags": []
   },
   "source": [
    "***\n",
    "**<span style=\"color:blue\">Question 2.2:</span>** **<span style=\"color:red\">(1 mark)</span>**\n",
    "\n",
    "Note that the pendulum bob must reach a maximum speed that is consistent with conservation of energy when it swings through its equilibrium position ($\\alpha = 0$).  If the effect of drag is assumed to be negligible, the maximum speed is given by $v_\\mathrm{max} = \\sqrt{2g\\ell\\left(1-\\cos\\alpha_0\\right)}$.  \n",
    "\n",
    "Given the answer to **<span style=\"color:blue\">Question 2.1</span>**, the period $T=2\\pi\\sqrt{\\dfrac{\\ell}{g}}$ predicted by the small-angle approximation is:  \n",
    "- (a) greater than the period of a real pendulum\n",
    "- (b) less than the period of a real pendulum\n",
    "- (c) equal to the period of a real pendulum"
   ]
  },
  {
   "cell_type": "markdown",
   "id": "ad3ce885-55e0-483d-a8ff-13f42e6838bd",
   "metadata": {
    "deletable": false,
    "editable": false,
    "slideshow": {
     "slide_type": ""
    },
    "tags": []
   },
   "source": [
    "**<span style=\"color:blue\">Answer 2.2</span>**  \n",
    "Replace the ... in the cell below with your answer.  Your answer should be a single character ('a', 'b', or 'c') between single or double quotes.  \n",
    "*** Please do not change anything to the left of the equals sign. ***"
   ]
  },
  {
   "cell_type": "code",
   "execution_count": null,
   "id": "7a3213e5-58a9-48bd-876b-866db7d45750",
   "metadata": {
    "tags": []
   },
   "outputs": [],
   "source": [
    "a2_2 = ..."
   ]
  },
  {
   "cell_type": "code",
   "execution_count": null,
   "id": "13c57b66-06e8-4083-831b-d7a479210605",
   "metadata": {
    "deletable": false,
    "editable": false,
    "slideshow": {
     "slide_type": ""
    },
    "tags": []
   },
   "outputs": [],
   "source": [
    "PHYS121.graderCheck([a2_2], ['a2_2'], grader.check('q2.2'))"
   ]
  },
  {
   "cell_type": "markdown",
   "id": "2237a4dd",
   "metadata": {
    "deletable": false,
    "editable": false,
    "slideshow": {
     "slide_type": ""
    },
    "tags": []
   },
   "source": [
    "# <div style=\"background-color:rgba(255, 204, 255, 0.5); text-align:center; vertical-align: middle; padding:40px 0; margin-top:30px\"><span style=\"color:rgba(102, 0, 204, 1);\">Part 3 - Solving $\\dfrac{d^2\\alpha}{dt^2} = -\\omega_0^2\\sin\\alpha$ Computationally (15 minutes)</span></div>\n",
    "\n",
    "The insights gained from <span style=\"color:rgba(102, 0, 204, 1);\">**Part 2**</span> suggest that we should expect the actual measured period to be greater than $2\\pi\\sqrt{\\ell/g}$.  In this part of the pre-lab, we attempt to solve for $\\alpha(t)$ without invoking the small-angle approximation.  From <span style=\"color:rgba(102, 0, 204, 1);\">**Part 2**</span>, the equation of motion that we need to work with is:\n",
    "\n",
    "$$\n",
    "\\dfrac{d^2\\alpha}{dt^2} = -\\omega_0^2\\sin\\alpha.\\tag{5}\n",
    "$$\n",
    "\n",
    "This equation is not easily solved using the mathematical methods we're familiar with, so we will rely on approximate computational methods.  However, as we'll soon see, the results of the computational calculation can be made arbitrarily accurate.\n",
    "\n",
    "The strategy is to assume that, for a small time interval $\\Delta t$, the angular acceleration $a_\\alpha = -g\\sin\\alpha$ doesn't change much or, in other words, is approximately constant.  In this case, we can treat $a_\\alpha$ as the average angular acceleration during time interval $\\Delta t$ such that\n",
    "\n",
    "$$\n",
    "a_\\alpha = \\dfrac{\\Delta v_\\alpha}{\\Delta t},\n",
    "$$\n",
    "where $\\Delta v_\\alpha = v_\\alpha\\left(t+\\Delta t\\right) - v_\\alpha\\left(t\\right)$ is the change in angular velocity.  As a result, the angular speed of the pendulum after time $\\Delta t$ is given by:\n",
    "\n",
    "$$\n",
    "v_\\alpha\\left(t+\\Delta t\\right) = v_\\alpha\\left(t\\right) + a_\\alpha\\Delta t.\\tag{6}\n",
    "$$\n",
    "\n",
    "In a similar way, for small $\\Delta t$, the angular velocity $v_\\alpha$ remains approximately constant such that:\n",
    "\n",
    "$$\n",
    "v_\\alpha = \\dfrac{\\Delta\\alpha}{\\Delta t}\n",
    "$$\n",
    "\n",
    "and:\n",
    "\n",
    "$$\n",
    "\\alpha\\left(t+\\Delta t\\right) = \\alpha\\left(t\\right) + v_\\alpha\\Delta t.\\tag{7}\n",
    "$$\n",
    "\n",
    "\n",
    "As shown in the **Table 1** below, Eqs. $(5)$-$(7)$ can be used iteratively to calculate the angular acceleration, velocity, and position of the pendulum as time evolves. \n",
    "\n",
    "<style>\n",
    "td, th {\n",
    "   border: none!important;\n",
    "}\n",
    "</style>\n",
    "\n",
    "\n",
    "\n",
    "| <div style=\"width:90px\">Step</div> | <div style=\"width:90px\"><b>time</b></div> | <div style=\"width:120px\"><b>$a_\\alpha$</b></div> | <div style=\"width:150px\"><b>$v_\\alpha$</b></div> |  <div style=\"width:150px\"><b>$\\alpha$</b></div> |\n",
    "|:---------------:|:----------------------:|:----------------------:|:----------------------:|:----------------------:|\n",
    "| 1 | $t_1 = 0$ | $a_{\\alpha,1} = -\\omega_0^2\\sin\\alpha_0$ | $v_{\\alpha, 1} = 0$ | $\\alpha_1 = \\alpha_0$ |\n",
    "| 2 | $t_2 = \\Delta t$ | $a_{\\alpha,2} = -\\omega_0^2\\sin\\alpha_1$ | $v_{\\alpha, 2} = v_{\\alpha,1} + a_{\\alpha,1}\\Delta t$ | $\\alpha_2 = \\alpha_1 + v_{\\alpha,1}\\Delta t$ |\n",
    "| 3 | $t_3 = 2\\Delta t$ | $a_{\\alpha,3} = -\\omega_0^2\\sin\\alpha_2$ | $v_{\\alpha, 3} = v_{\\alpha,2} + a_{\\alpha,2}\\Delta t$ | $\\alpha_3 = \\alpha_2 + v_{\\alpha,2}\\Delta t$ |\n",
    "| $\\vdots$ | $\\vdots$ | $\\vdots$ | $\\vdots$ | $\\vdots$ |\n",
    "| $i+1$ | $t_{i+1} = i\\Delta t$ | $a_{\\alpha,i+1} = -\\omega_0^2\\sin\\alpha_{i}$ | $v_{\\alpha, i+1} = v_{\\alpha,i} + a_{\\alpha,i}\\Delta t$ | $\\alpha_{i+1} = \\alpha_i + v_{\\alpha,i}\\Delta t$ |\n",
    "| $\\vdots$ | $\\vdots$ | $\\vdots$ | $\\vdots$ | $\\vdots$ |\n",
    "    \n",
    "<center>\n",
    "    <b>Table 1: Scheme used to iteratively calculate $a_\\alpha$, $v_\\alpha$, and $\\alpha$ as a function of time without relying on the small-angle approximation.</b>\n",
    "</center>    \n",
    "    \n",
    "\n",
    "\n",
    "\n",
    "Notice that values of $a_\\alpha$, $v_\\alpha$, and $\\alpha$ at step $i+1$ are determined from the values of those quantities at step $i$.  Therefore, in order to determine the state of the pendulum at some future time $t$, one only needs to specify the initial conditions at the first step when $t = 0$.  Furthermore, the calculations can made arbitrarily accurate, at the cost of computation time, by shrinking $\\Delta t$ smaller and smaller."
   ]
  },
  {
   "cell_type": "markdown",
   "id": "777d4a69-f08f-409f-8550-d83f1cd3007f",
   "metadata": {
    "deletable": false,
    "editable": false,
    "slideshow": {
     "slide_type": ""
    },
    "tags": []
   },
   "source": [
    "The code cell below is used to initialize the parameters that will be used in the numerical calculations.  It will:\n",
    "\n",
    "1. Set the amplitude of the oscillations in degrees\n",
    "2. Convert the amplitude into radians\n",
    "3. Set the length of the pendulum string and the gravitational acceleration\n",
    "4. Calculate the approximate period in units of seconds when using the small-angle approximation\n",
    "5. Set the initial values for the time, angular position, velocity, and acceleration.\n",
    "\n",
    "**Please execute the cell below using \"Shift + Enter\"**\n",
    "\n",
    "## <span style=\"color:red\">Step 1:</span> <span style=\"color:blue\">Prepare pendulum simulation initial conditions</span>."
   ]
  },
  {
   "cell_type": "code",
   "execution_count": null,
   "id": "225f732e-a852-47a7-b663-d5c52feda43c",
   "metadata": {
    "editable": true,
    "slideshow": {
     "slide_type": ""
    },
    "tags": []
   },
   "outputs": [],
   "source": [
    "# 1. Set the amplitude of the oscillations in degrees\n",
    "alpha0 = 60 # degrees.\n",
    "\n",
    "# 2. Convert the amplitude into radians\n",
    "alpha0 = np.deg2rad(alpha0) \n",
    "\n",
    "# 3. Set the length of the pendulum string and the gravitational acceleration  \n",
    "ell = 1 # m.\n",
    "g = 9.81 # m/s^2. \n",
    "\n",
    "# 4. Calculate the approximate period in units of seconds when using the small-angle approximation\n",
    "Tapprox = 2*np.pi*np.sqrt(ell/g) \n",
    "\n",
    "# 5. Set the initial values for the time, angular position, velocity, and acceleration.\n",
    "# Store theses initial values in lists.\n",
    "t_initial = 0 # Initial time in seconds\n",
    "alpha_initial = alpha0 # Initial angular position in radians\n",
    "v_alpha_initial = 0 # Initial angular speed in rad/s\n",
    "a_alpha_initial = -(g/ell)*np.sin(alpha0) # Initial angular acceleration in rad/s^2"
   ]
  },
  {
   "cell_type": "markdown",
   "id": "14c7a4a3-de2e-4e90-9953-2c60905b358e",
   "metadata": {
    "deletable": false,
    "editable": false,
    "slideshow": {
     "slide_type": ""
    },
    "tags": []
   },
   "source": [
    "We can now implement the iterative calculation.  If not interested, you definitely do **not** need to understand syntax of the code in the cell below.  For those who are interested, comments have been included that describe the purpose of each.\n",
    "\n",
    "This block of code:\n",
    "1. Sets loop parameters (number of iterations, maximum time, and the time step).\n",
    "2. Puts the initial parameters inside lists.\n",
    "3. Executes the loop to calculate $\\alpha$, $v_\\alpha$, and $a_\\alpha$ as a function of time.\n",
    "4. Plots $\\alpha$ versus time.\n",
    "5. Calculates the period $T$.\n",
    "6. Compares the numerically-calculated period to the approximate period $T_\\mathrm{approx} = 2\\pi\\sqrt{\\dfrac{\\ell}{g}}$ found using the small-angle approximation.\n",
    "\n",
    "One way to determine the period is to find the time at which the pendulum changes direction.  For example, if the pendulum is released from rest with the mass displaced to the right ($\\alpha_0>0$), it will initially have a negative angular velocity.  When the mass approaches and then passes the position $\\alpha = -\\alpha_0$, it has swung through half a period ($t = T/2$) and it's angular velocity changes from a small negative value to a small positive value.  Step $5$ in the code cell below is simply looking for the time at which the velocity of the pendulum changes sign.\n",
    "\n",
    "## <span style=\"color:red\">Step 2:</span> <span style=\"color:blue\">Execute the simulation, plot the results & find the period</span>."
   ]
  },
  {
   "cell_type": "code",
   "execution_count": null,
   "id": "3e8e3fa5-d6f1-44fe-a5aa-804172d34cff",
   "metadata": {
    "editable": true,
    "slideshow": {
     "slide_type": ""
    },
    "tags": []
   },
   "outputs": [],
   "source": [
    "# 1. Set loop parameters (number of iterations, maximum time, and the time step).\n",
    "steps = int(1e5) # Step number of steps to 100,000\n",
    "tmax = 10 # s.  Set the maximum time to 10 s\n",
    "dt = tmax/steps # Set the value of dt\n",
    "\n",
    "# 2. Put the initial parameters inside lists.\n",
    "t = [t_initial]\n",
    "alpha = [alpha_initial]\n",
    "v_alpha = [v_alpha_initial]\n",
    "a_alpha = [a_alpha_initial]\n",
    "\n",
    "# 3. Set up a Python loop to iteratively calculate the quantities listed in Table 1.\n",
    "# Note that in Python, only the indented lines that follow the \"for\" statement are inside the loop.\n",
    "for i in range(steps): \n",
    "    # Update the time and append to the time list\n",
    "    t.append(t[i] + dt)\n",
    "    \n",
    "    # Update the angular acceleration and append to the list\n",
    "    a_alpha.append(-(g/ell)*np.sin(alpha[i]))\n",
    "    \n",
    "    # Update the angular velocity and append to the list\n",
    "    v_alpha.append(v_alpha[i] + a_alpha[i]*dt)\n",
    "    \n",
    "    # Update the angular position and append to the list\n",
    "    alpha.append(alpha[i] + v_alpha[i]*dt)\n",
    "\n",
    "# 4. Plot the angular position as a function of time\n",
    "plt.plot(t, np.rad2deg(alpha))\n",
    "plt.plot([0, tmax], [0, 0], ':', color = 'lightgrey')\n",
    "plt.xlabel('time (s)')\n",
    "plt.ylabel('angular position (degrees)')\n",
    "plt.xlim(0, tmax)\n",
    "\n",
    "# 5. Determine the oscillation period.\n",
    "i = 0\n",
    "while not (v_alpha[i] <= 0 and v_alpha[i + 1] > 0):\n",
    "    i = i + 1\n",
    "    \n",
    "# 6. Compare the numerically-calculated period to the period found using the small-angle approximation.\n",
    "T = 2*t[i]\n",
    "display(Latex(r'$T = $ ' + '{0:.3f}'.format(T) + ' s'))\n",
    "display(Latex(r'$T_\\mathrm{approx} = $ ' + '{0:.3f}'.format(Tapprox) + ' s'))"
   ]
  },
  {
   "cell_type": "markdown",
   "id": "49a10334-15cd-4597-b082-5feddb15bc56",
   "metadata": {
    "deletable": false,
    "editable": false,
    "slideshow": {
     "slide_type": ""
    },
    "tags": []
   },
   "source": [
    "The results from the simulation can be used to create an animation of the pendulum.  Executing the cell below will start the animation and simultaneously plot the $x$- and $y$-positions of the pendulum bob as a function of time.  The period of a pendulum with $\\ell = 1\\rm\\ m$ in Earth's gravitational field is approximately $2\\rm\\ s$.  The rate that the plots are updated is slow such that the time it takes the pendulum to complete one full swing $\\left(\\alpha_0\\to 0\\to -\\alpha_0\\to 0\\to\\alpha_0\\right)$ in the animation is greater than the actual period.  The time axes on the plots of the $x$- and $y$-positions are, however, correct.  It's also interesting to notice that $y$-position oscillations have twice the frequency (half the period) of the $x$-position oscillations.\n",
    "\n",
    "## <span style=\"color:red\">Step 3:</span> <span style=\"color:blue\">Use the simulation results to display an animation of the pendulum</span>."
   ]
  },
  {
   "cell_type": "code",
   "execution_count": null,
   "id": "8ffa879a-7bc9-4b3a-b4a7-6154fff4df9d",
   "metadata": {
    "editable": true,
    "slideshow": {
     "slide_type": ""
    },
    "tags": []
   },
   "outputs": [],
   "source": [
    "PHYS121.AnimatedPlot(ell, alpha0, alpha, t, 2*T)"
   ]
  },
  {
   "cell_type": "markdown",
   "id": "10bd8678-7cc1-4f8d-b326-ebda799d39dd",
   "metadata": {
    "deletable": false,
    "editable": false,
    "slideshow": {
     "slide_type": ""
    },
    "tags": []
   },
   "source": [
    "# <div style=\"background-color:rgba(255, 204, 255, 0.5); text-align:center; vertical-align: middle; padding:40px 0; margin-top:30px\"><span style=\"color:rgba(102, 0, 204, 1);\">Part 4 - Using the Simulation to Study the Pendulum (10 minutes)</span></div>\n",
    "\n",
    "Now that we have a working simulation, it can be used to study the properties of the pendulum without having to invoke the small-angle approximation.  The goal will be to produce a plot of the period as a function of the amplitude $\\alpha_0$ of the pendulum.\n",
    "\n",
    "Specifically, you will run the simulation in the cell below for different values of $\\alpha_0$ and use the results of the simulation to answer **<span style=\"color:blue\">Question 4.1</span>** below.  Simply replace the \"...\" with the desired value of $\\alpha_0$ in units of degrees.\n",
    "\n",
    "## <span style=\"color:red\">PendulumSim Function:</span>"
   ]
  },
  {
   "cell_type": "code",
   "execution_count": null,
   "id": "787dd700-b48a-45d5-9f14-617a3ff5878b",
   "metadata": {
    "editable": true,
    "slideshow": {
     "slide_type": ""
    },
    "tags": []
   },
   "outputs": [],
   "source": [
    "# Enter values for alpha0 in degrees and then hit \"Shift + Enter\" to run the simulation\n",
    "alpha0 = ...\n",
    "PHYS121.PendulumSim(alpha0)"
   ]
  },
  {
   "cell_type": "code",
   "execution_count": null,
   "id": "5f34ac12-d929-45ad-9f47-390116d70c39",
   "metadata": {
    "deletable": false,
    "editable": false,
    "slideshow": {
     "slide_type": ""
    },
    "tags": []
   },
   "outputs": [],
   "source": [
    "PHYS121.graderCheck([alpha0], ['alpha0'], grader.check('q4.0'))"
   ]
  },
  {
   "cell_type": "markdown",
   "id": "92fb4bcd-1ce7-4873-9002-7195c12c90a5",
   "metadata": {
    "deletable": false,
    "editable": false,
    "slideshow": {
     "slide_type": ""
    },
    "tags": []
   },
   "source": [
    "***\n",
    "**<span style=\"color:blue\">Question 4.1:</span>** **<span style=\"color:red\">(2 marks)</span>**\n",
    "\n",
    "Run the code cell above labeled **<span style=\"color:red\">PendulumSim Function</span>** for the following values of $\\alpha_0$: $5$, $10$, $15$, $20$, $25$, $30$, $35$, $40$ & $45^\\circ$.\n",
    "\n",
    "For each of these angles, record the period reported by the function in the cell below."
   ]
  },
  {
   "cell_type": "markdown",
   "id": "e2ce6cc6-a979-4acb-8f96-52c8e16ce81f",
   "metadata": {
    "deletable": false,
    "editable": false,
    "slideshow": {
     "slide_type": ""
    },
    "tags": []
   },
   "source": [
    "**<span style=\"color:blue\">Answer 4.1</span>**  \n",
    "Replace each ... in the cell below with the appropriate period.  Your answers should be decimal numbers (quotation marks are not needed).  When done, hit \"Shift + Enter\" to generate a plot of the period $T$ versus the oscillation amplitude $\\alpha_0$.  \n",
    "*** Please do not change anything to the left of the equals sign. ***"
   ]
  },
  {
   "cell_type": "code",
   "execution_count": null,
   "id": "dc2425f8-8c39-4383-a5ad-093ad92329ce",
   "metadata": {
    "editable": true,
    "slideshow": {
     "slide_type": ""
    },
    "tags": []
   },
   "outputs": [],
   "source": [
    "# Replace all instances of \"...\" with decimal numbers\n",
    "\n",
    "# alpha0 = 5 degrees\n",
    "T05 = ...\n",
    "\n",
    "# alpha0 = 10 degrees\n",
    "T10 = ...\n",
    "\n",
    "# alpha0 = 15 degrees\n",
    "T15 = ...\n",
    "\n",
    "# alpha0 = 20 degrees\n",
    "T20 = ...\n",
    "\n",
    "# alpha0 = 25 degrees\n",
    "T25 = ...\n",
    "\n",
    "# alpha0 = 30 degrees\n",
    "T30 = ...\n",
    "\n",
    "# alpha0 = 35 degrees\n",
    "T35 = ...\n",
    "\n",
    "# alpha0 = 40 degrees\n",
    "T40 = ...\n",
    "\n",
    "# alpha0 = 45 degrees\n",
    "T45 = ...\n",
    "\n",
    "# Make lists of amplitudes and periods that will be used for plotting in the next code cell.\n",
    "alpha0List = [5, 10, 15, 20, 25, 30, 35, 40, 45]\n",
    "TList = [T05, T10, T15, T20, T25, T30, T35, T40, T45]\n",
    "diffList = np.round((np.array(TList) - Tapprox)/Tapprox * 100, 2)\n",
    "\n",
    "display(Latex(r'Using the small-angle approximation, $T_\\mathrm{approx} = 2\\pi\\sqrt{\\dfrac{\\ell}{g}} = 2.006$ s'))\n",
    "\n",
    "dict = {r\"$\\alpha$$_0$ ($^\\circ$)\": alpha0List, r\"$T$ (s)\": TList, \"% difference\": diffList}\n",
    "df = pd.DataFrame(dict)\n",
    "display(df)"
   ]
  },
  {
   "cell_type": "code",
   "execution_count": null,
   "id": "2b711c86-df54-4e78-a2fe-7ae825eb5bc2",
   "metadata": {
    "deletable": false,
    "editable": false,
    "slideshow": {
     "slide_type": ""
    },
    "tags": []
   },
   "outputs": [],
   "source": [
    "PHYS121.graderCheck([TList], ['TList'], grader.check('q4.1'))"
   ]
  },
  {
   "cell_type": "markdown",
   "id": "1f668560-7b05-45f6-87a1-a36eca48fc2a",
   "metadata": {
    "deletable": false,
    "editable": false,
    "slideshow": {
     "slide_type": ""
    },
    "tags": []
   },
   "source": [
    "Notice that the difference between $T_\\mathrm{approx} = 2\\pi\\sqrt{\\dfrac{\\ell}{g}}$ and the simulated periods $T$ increases as the amplitude $\\alpha_0$ increases.  \n",
    "\n",
    "When $\\alpha_0 = 5^\\circ$, the two periods differ by only $0.05\\%$.  \n",
    "\n",
    "For $\\alpha_0 = 45^\\circ$, the difference increases to $4\\%$.\n",
    "\n",
    "The code cell below is used to produce two plots of $T$ versus $\\alpha_0$.  Place your mouse cursor in the cell and then hit \"Shift + Enter\" to generate the plots."
   ]
  },
  {
   "cell_type": "code",
   "execution_count": null,
   "id": "a995baed-32d4-4ef5-b994-3ad8b4dc6f61",
   "metadata": {
    "deletable": false,
    "editable": false,
    "slideshow": {
     "slide_type": ""
    },
    "tags": []
   },
   "outputs": [],
   "source": [
    "# Produce a plot of T versus alpha0\n",
    "fig1 = plt.figure()\n",
    "fig1.patch.set_facecolor('xkcd:pastel blue')\n",
    "fig1.patch.set_alpha(0.25)\n",
    "plt.plot(alpha0List, TList, 'o', color = 'orange', label = r'simulated $T$')\n",
    "plt.plot([0, 50], [Tapprox, Tapprox], ':', color = 'purple', label = r'$T_\\mathrm{approx}$')\n",
    "plt.xlabel(r'$\\alpha_0$ (degrees)')\n",
    "plt.ylabel('period (s)')\n",
    "plt.title(r'$T$ versus $\\alpha_0$')\n",
    "plt.xlim(0, 47)\n",
    "plt.ylim(0, 2.2)\n",
    "plt.text(33, 1.85, r'$T_\\mathrm{approx} = $' + '{0:.4f}'.format(Tapprox) + ' s', fontsize = 10)\n",
    "plt.legend(loc=\"lower right\")\n",
    "\n",
    "# Produce a second plot of T versus alpha0\n",
    "# Zoom in near T = 2 s\n",
    "# Add a quadratic dashed line\n",
    "fig2 = plt.figure()\n",
    "fig2.patch.set_facecolor('xkcd:powder pink')\n",
    "fig2.patch.set_alpha(0.25)\n",
    "plt.plot(alpha0List, TList, 'o', color = 'orange', label = r'simulated $T$')\n",
    "plt.plot([0, 50], [Tapprox, Tapprox], ':', color = 'purple', label = r'$T_\\mathrm{approx}$')\n",
    "xx = np.linspace(0, 50, 1000)\n",
    "yy = Tapprox + 3.9e-5*xx**2\n",
    "plt.plot(xx, yy, '--', color = 'xkcd:ugly blue', label = r'$T_\\mathrm{approx}+ A\\alpha_0^2$')\n",
    "plt.xlabel(r'$\\alpha_0$ (degrees)')\n",
    "plt.ylabel('period (s)')\n",
    "plt.title(r'$T$ versus $\\alpha_0$' '\\n' r'Zoomed in view near $T = 2\\rm\\ s$')\n",
    "plt.xlim(0, 47)\n",
    "plt.ylim(1.98, 2.1)\n",
    "plt.text(33, 1.994, r'$T_\\mathrm{approx} = $' + '{0:.4f}'.format(Tapprox) + ' s', fontsize = 10)\n",
    "plt.legend(loc=\"upper left\");"
   ]
  },
  {
   "cell_type": "markdown",
   "id": "1c37c5cf-47f8-46b7-85f3-531771230910",
   "metadata": {
    "deletable": false,
    "editable": false,
    "slideshow": {
     "slide_type": ""
    },
    "tags": []
   },
   "source": [
    "In the first plot (blue background), the vertical axis spans $T = 0$ to $2.1\\rm\\ s$ and is used to emphasize that the deviations away from $T_\\mathrm{approx}$ are relatively small even when the amplitude is large.  Therefore, in order to observe these deviations experimentally, it will be necessary to make precision measurements of the period in Lab #2. \n",
    "\n",
    "The second plot (pink background) shows the exact same data.  However, the vertical scale has been set to span a narrow range of values near $T_\\mathrm{approx}$ so as to highlight the growth of the deviations as $\\alpha_0$ increases.  The dashed line is used to show that the deviations appear to grow approximately quadratically."
   ]
  },
  {
   "cell_type": "markdown",
   "id": "c6337a40-e16a-4295-b81f-e737a3843cc9",
   "metadata": {
    "deletable": false,
    "editable": false,
    "slideshow": {
     "slide_type": ""
    },
    "tags": []
   },
   "source": [
    "# <div style=\"background-color:rgba(255, 204, 255, 0.5); text-align:center; vertical-align: middle; padding:40px 0; margin-top:30px\"><span style=\"color:rgba(102, 0, 204, 1);\">Part 5 - Including Drag in the Computational Calculations (10 minutes)</span></div>\n",
    "\n",
    "We're not going to ask you anymore questions$\\dots$, we just want to make one final point before wrapping up this pre-lab.\n",
    "\n",
    "We can make simple modifications to our simulation that will allow us to study other properties of the pendulum.  Recall the equation of motion that we started with for the tangential acceleration in **<span style=\"color:rgba(102, 0, 204, 1);\">Part 2</span>**:\n",
    "\n",
    "$$\n",
    "ma_\\mathrm{t} = -mg\\sin\\alpha.\n",
    "$$\n",
    "\n",
    "This expression assumed that the pendulum bob swings freely without drag from air resistance.  One simple model for the drag force is:\n",
    "\n",
    "$$\n",
    "D = -bv,\n",
    "$$\n",
    "\n",
    "where the constant $b$ is called the \"drag coefficient\".  Therefore, the modified equation of motion becomes:\n",
    "\n",
    "$$\n",
    "ma_\\mathrm{t} = -mg\\sin\\alpha - bv.\\tag{8}\n",
    "$$\n",
    "\n",
    "Dividing both sides of Eq. $(8)$ by $m$ and $\\ell$ yields:\n",
    "\n",
    "\\begin{align}\n",
    "\\dfrac{a_\\mathrm{t}}{\\ell} &= -\\dfrac{g}{\\ell}\\sin\\alpha - \\left(\\frac{b}{m\\ell}\\right)v,\\\\\n",
    "\\therefore a_\\alpha &= -\\omega_0^2\\sin\\alpha - b_0 v.\\tag{9}\n",
    "\\end{align}\n",
    "\n",
    "In Eq. $(9)$, we have:\n",
    " - made use of the fact that $a_\\mathrm{t}/\\ell$ is equal to the angular acceleration $a_\\alpha$\n",
    " - replaced $g/\\ell$ with the previously-defined $\\omega_0^2$\n",
    " - defined $b_0$ to be another constant which is equal to $\\dfrac{b}{m\\ell}$\n",
    " \n",
    "We note that Eq. $(9)$ is quite difficult to solve analytically, even if one invokes the small-angle approximation.  You will likely encounter this problem in the future if you take more Physics and Math courses (PHYS 216, PHYS 231, MATH 225). \n",
    " \n",
    "The only different between the block of code below and that used in **<span style=\"color:rgba(102, 0, 204, 1);\">Part 3</span>** is that the line:\n",
    " \n",
    "```-(g/ell)*np.sin(alpha[i])```\n",
    " \n",
    "has been replaced with:\n",
    "\n",
    "```-(g/ell)*np.sin(alpha[i]) - b0*v_alpha[i]```\n",
    "\n",
    "to incorporate the effects of drag.  To run the simulation, we also have to assign a value to $b_0$.  The code below uses ```b0 = 0.75```.  Feel free to try different values to see the effect that it has.  Small negative values of $b_0$ are interesting!\n",
    "\n",
    "## <span style=\"color:red\">Step 1:</span> <span style=\"color:blue\">Prepare pendulum simulation initial conditions</span>."
   ]
  },
  {
   "cell_type": "code",
   "execution_count": null,
   "id": "38cdee37-b66b-406b-aaa8-b3692ea2e759",
   "metadata": {
    "editable": true,
    "slideshow": {
     "slide_type": ""
    },
    "tags": []
   },
   "outputs": [],
   "source": [
    "#0. Set the value of the drag coefficient b0.\n",
    "b0 = 0.75\n",
    "\n",
    "# 1. Set the amplitude of the oscillations in degrees\n",
    "alpha0 = 60 # degrees.\n",
    "\n",
    "# 2. Convert the amplitude into radians\n",
    "alpha0 = np.deg2rad(alpha0) \n",
    "\n",
    "# 3. Set the length of the pendulum string and the gravitational acceleration  \n",
    "ell = 1 # m.\n",
    "g = 9.81 # m/s^2. \n",
    "\n",
    "# 4. Calculate the approximate period in units of seconds when using the small-angle approximation\n",
    "Tapprox = 2*np.pi*np.sqrt(ell/g) \n",
    "\n",
    "# 5. Set the initial values for the time, angular position, velocity, and acceleration.\n",
    "# Store theses initial values in lists.\n",
    "t_initial = 0 # Initial time in seconds\n",
    "alpha_initial = alpha0 # Initial angular position in radians\n",
    "v_alpha_initial = 0 # Initial angular speed in rad/s\n",
    "a_alpha_initial = -(g/ell)*np.sin(alpha0) # Initial angular acceleration in rad/s^2"
   ]
  },
  {
   "cell_type": "markdown",
   "id": "e47751c8-b67d-469d-92b8-cba2ba05ee9e",
   "metadata": {
    "deletable": false,
    "editable": false,
    "slideshow": {
     "slide_type": ""
    },
    "tags": []
   },
   "source": [
    "## <span style=\"color:red\">Step 2:</span> <span style=\"color:blue\">Execute the simulation and plot the results to observe the effect of drag on the pendulum</span>."
   ]
  },
  {
   "cell_type": "code",
   "execution_count": null,
   "id": "733d205c-70ed-4ab1-967a-a631741fba0e",
   "metadata": {
    "editable": true,
    "slideshow": {
     "slide_type": ""
    },
    "tags": []
   },
   "outputs": [],
   "source": [
    "# 1. Set loop parameters (number of iterations, maximum time, and the time step).\n",
    "steps = int(1e5) # Step number of steps to 100,000\n",
    "tmax = 10 # s.  Set the maximum time to 10 s\n",
    "dt = tmax/steps # Set the value of dt\n",
    "\n",
    "# 2. Put the initial parameters inside lists.\n",
    "t = [t_initial]\n",
    "alpha = [alpha_initial]\n",
    "v_alpha = [v_alpha_initial]\n",
    "a_alpha = [a_alpha_initial]\n",
    "\n",
    "# 3. Set up a Python loop to iteratively calculate the quantities listed in Table 1.\n",
    "# Note that in Python, only the indented lines that follow the \"for\" statement are inside the loop.\n",
    "for i in range(steps): \n",
    "    # Update the time and append to the time list\n",
    "    t.append(t[i] + dt)\n",
    "    \n",
    "    # Update the angular acceleration and append to the list\n",
    "    a_alpha.append(-(g/ell)*np.sin(alpha[i]) - b0*v_alpha[i])\n",
    "    \n",
    "    # Update the angular velocity and append to the list\n",
    "    v_alpha.append(v_alpha[i] + a_alpha[i]*dt)\n",
    "    \n",
    "    # Update the angular position and append to the list\n",
    "    alpha.append(alpha[i] + v_alpha[i]*dt)\n",
    "\n",
    "# 4. Plot the angular position as a function of time\n",
    "plt.plot(t, np.rad2deg(alpha))\n",
    "plt.plot([0, tmax], [0, 0], ':', color = 'lightgrey')\n",
    "plt.xlabel('time (s)')\n",
    "plt.ylabel('angular position (degrees)')\n",
    "plt.xlim(0, tmax);"
   ]
  },
  {
   "cell_type": "markdown",
   "id": "d6aa777a-1633-40ce-9373-8e99e9595c99",
   "metadata": {
    "deletable": false,
    "editable": false,
    "slideshow": {
     "slide_type": ""
    },
    "tags": []
   },
   "source": [
    "## <span style=\"color:red\">Step 3:</span> <span style=\"color:blue\">Use the simulation results to display an animation of the pendulum</span>."
   ]
  },
  {
   "cell_type": "code",
   "execution_count": null,
   "id": "b490456c-deaa-4336-9f2c-c8dcd99286f6",
   "metadata": {
    "editable": true,
    "slideshow": {
     "slide_type": ""
    },
    "tags": []
   },
   "outputs": [],
   "source": [
    "PHYS121.AnimatedPlot(ell, alpha0, alpha, t, 8)"
   ]
  },
  {
   "cell_type": "markdown",
   "id": "29a8e1fb-6f0a-4d9f-bec1-449e41dee582",
   "metadata": {
    "deletable": false,
    "editable": false,
    "slideshow": {
     "slide_type": ""
    },
    "tags": []
   },
   "source": [
    "This final part of the pre-lab has hopefully demonstrated that, once we have a working simulation, it can be easily modified to investigate other aspects of a physical system.  In the example above, including drag in the simulation allows us to ask questions such as:\n",
    " - Does drag affect the period?  If so, how?\n",
    " - How does changing the drag coefficient $b_0$ affect the decay rate of the oscillations?\n",
    " - Are there other models for the drag force (besides $D = -bv$) that are physically relevant?\n",
    " - $\\dots$"
   ]
  },
  {
   "cell_type": "markdown",
   "id": "98d923fe",
   "metadata": {
    "deletable": false,
    "editable": false,
    "slideshow": {
     "slide_type": ""
    },
    "tags": []
   },
   "source": [
    "# <div style=\"background-color:rgba(255, 204, 255, 0.5); text-align:center; vertical-align: middle; padding:40px 0; margin-top:30px\"><span style=\"color:rgba(102, 0, 204, 1);\">Part 6 - Feedback and Submission (5 minutes)</span></div>"
   ]
  },
  {
   "cell_type": "markdown",
   "id": "3b3fc4a9",
   "metadata": {
    "deletable": false,
    "editable": false,
    "slideshow": {
     "slide_type": ""
    },
    "tags": []
   },
   "source": [
    "<!-- BEGIN QUESTION -->\n",
    "\n",
    "**<span style=\"color:blue\">Question 6.1:</span>**  \n",
    "\n",
    "We welcome your feedback on the PHYS 121 pre-labs!  Please feel free to include any comments you have about this pre-lab in the cell below.  Your comments will be taken into consideration when revising/improving the PHYS 121 labs and pre-labs.  You can suggest improvements, point out anything that was unclear, comment on the strengths and weaknesses of the pre-lab, ...\n",
    "\n",
    "This question is optional and will have no impact on your pre-lab or lab grade."
   ]
  },
  {
   "cell_type": "markdown",
   "id": "fbbd96c9",
   "metadata": {
    "editable": true,
    "slideshow": {
     "slide_type": ""
    },
    "tags": []
   },
   "source": [
    "***\n",
    "**<span style=\"color:blue\">Answer 6.1:</span>**\n",
    "\n",
    "[//]: # (Please do not delete this comment or anything above it.  Anything below this comment can be deleted.)  \n",
    "\n",
    "Double click this cell and enter your text here.  When done, hit 'Shift' + 'Enter' to execute the cell.  You may delete this text when entering your answer. "
   ]
  },
  {
   "cell_type": "markdown",
   "id": "4820fe7a",
   "metadata": {
    "deletable": false,
    "editable": false,
    "slideshow": {
     "slide_type": ""
    },
    "tags": []
   },
   "source": [
    "<!-- END QUESTION -->\n",
    "\n",
    "***\n",
    "Once you've completed this notebook:\n",
    "- Save your work.\n",
    "- Run 'grader.check_all()' to confirm that you've completed all required tasks.\n",
    "- Run 'grader.export()' to generate a .zip file containing all of the materials that you will submit.\n",
    "- Download the generated .zip file using the link that appears **below** the ```grader.check_all(...)``` cell.\n",
    "- $\\Leftarrow$ Please do **NOT** download the zip file from the frame along the left-hand side of the screen. \n",
    "- Upload the .zip file to the PHYS 121 Canvas gradebook.\n",
    "- **Do NOT change the name of the .zip file.**\n",
    "- **Do NOT modify the contents of the .zip file.**\n",
    "\n",
    "Here is a <a href = \"https://raw.githubusercontent.com/UBC-Okanagan-Physics-Labs/PHYS-121-images/main/general/gifs/Submission.gif\">GIF</a> showing how these steps are completed.  Once your completed notebook has been uploaded to the Canvas gradebook, you're done!"
   ]
  },
  {
   "cell_type": "markdown",
   "id": "6e3e14c9-8d22-491f-9097-611ed1c728aa",
   "metadata": {
    "deletable": false,
    "editable": false,
    "slideshow": {
     "slide_type": ""
    },
    "tags": []
   },
   "source": [
    "---\n",
    "\n",
    "To double-check your work, the cell below will rerun all of the autograder tests."
   ]
  },
  {
   "cell_type": "code",
   "execution_count": null,
   "id": "83132c61-58f6-445a-b5fe-f6815a113330",
   "metadata": {
    "deletable": false,
    "editable": false,
    "slideshow": {
     "slide_type": ""
    },
    "tags": []
   },
   "outputs": [],
   "source": [
    "display(grader.check_all())\n",
    "PHYS121.saveMessage()"
   ]
  },
  {
   "cell_type": "markdown",
   "id": "c5dc43de",
   "metadata": {
    "deletable": false,
    "editable": false,
    "slideshow": {
     "slide_type": ""
    },
    "tags": []
   },
   "source": [
    "## Submission\n",
    "\n",
    "Make sure you have run all cells in your notebook in order before running the cell below, so that all images/graphs appear in the output. The cell below will generate a zip file for you to submit. **Please save before exporting!**"
   ]
  },
  {
   "cell_type": "code",
   "execution_count": null,
   "id": "aba239b7",
   "metadata": {
    "deletable": false,
    "editable": false,
    "slideshow": {
     "slide_type": ""
    },
    "tags": []
   },
   "outputs": [],
   "source": [
    "# Save your notebook first, then run this cell to export your submission.\n",
    "PHYS121.waitMessage()\n",
    "grader.export(files=[\"PHYS121_DataLogger.txt\"])\n",
    "PHYS121.proceedMessage()"
   ]
  },
  {
   "cell_type": "markdown",
   "id": "3374f1d0",
   "metadata": {
    "deletable": false,
    "editable": false,
    "slideshow": {
     "slide_type": ""
    },
    "tags": []
   },
   "source": [
    "# <div style=\"background-color:rgba(255, 204, 255, 0.5); text-align:center; vertical-align: middle; padding:40px 0; margin-top:30px\"><span style=\"color:rgba(102, 0, 204, 1);\">Playground (optional)</span></div>\n",
    "\n",
    "Feel free to add as many cells as you like below and use them as a playground for further independent investigations.  These cells won't be graded, so feel free to use them in any way that you like.  For example, you could compare Gaussian distributions with different standard deviations and/or means. "
   ]
  },
  {
   "cell_type": "code",
   "execution_count": null,
   "id": "a730d1b2",
   "metadata": {},
   "outputs": [],
   "source": [
    "# Here's an empty code cell that you can use.\n"
   ]
  },
  {
   "cell_type": "code",
   "execution_count": null,
   "id": "5534858e",
   "metadata": {},
   "outputs": [],
   "source": [
    "# Here's another empty code cell that you can use.\n"
   ]
  },
  {
   "cell_type": "code",
   "execution_count": null,
   "id": "1cc36be2",
   "metadata": {},
   "outputs": [],
   "source": [
    "# Here's yet another empty code cell that you can use.  \n",
    "# If you need more, you can add cells using the '+' icon in the menu bar at to the top of the screen.\n"
   ]
  },
  {
   "cell_type": "code",
   "execution_count": null,
   "id": "802d09f6",
   "metadata": {},
   "outputs": [],
   "source": [
    "# Here's yet another empty code cell that you can use.  \n",
    "# If you need more, you can add cells using the '+' icon in the menu bar at to the top of the screen.\n"
   ]
  },
  {
   "cell_type": "markdown",
   "id": "3eeba353-55a1-427c-b2dc-2af802ab4b8b",
   "metadata": {
    "deletable": false,
    "editable": false,
    "slideshow": {
     "slide_type": ""
    },
    "tags": []
   },
   "source": [
    "<img src=\"https://raw.githubusercontent.com/UBC-Okanagan-Physics-Labs/PHYS-121-images/main/general/images/ubc-logo-full.jpg\" width=\"500\"/>"
   ]
  },
  {
   "cell_type": "markdown",
   "id": "25bd16ec",
   "metadata": {
    "editable": true,
    "slideshow": {
     "slide_type": ""
    },
    "tags": []
   },
   "source": [
    "Last update: January 20, 2025"
   ]
  }
 ],
 "metadata": {
  "kernelspec": {
   "display_name": "Python 3 (ipykernel)",
   "language": "python",
   "name": "python3"
  },
  "language_info": {
   "codemirror_mode": {
    "name": "ipython",
    "version": 3
   },
   "file_extension": ".py",
   "mimetype": "text/x-python",
   "name": "python",
   "nbconvert_exporter": "python",
   "pygments_lexer": "ipython3",
   "version": "3.11.10"
  },
  "otter": {
   "OK_FORMAT": true,
   "tests": {
    "q0.1": {
     "name": "q0.1",
     "points": null,
     "suites": [
      {
       "cases": [
        {
         "code": ">>> 'PHYS121' in sys.modules and 'otter' in sys.modules and ('numpy' in sys.modules)\nTrue",
         "failure_message": "Make sure you execute the cells containing \"import PHYS121\" and \"import otter\" as well as the cell beneath the heading \"Import Modules\".",
         "hidden": false,
         "locked": false,
         "points": 0
        }
       ],
       "scored": true,
       "setup": "",
       "teardown": "",
       "type": "doctest"
      }
     ]
    },
    "q2.1": {
     "name": "q2.1",
     "points": null,
     "suites": [
      {
       "cases": [
        {
         "code": ">>> a2_1 != ...\nTrue",
         "failure_message": "Replace the ... with your answer.",
         "hidden": false,
         "locked": false,
         "points": 0
        },
        {
         "code": ">>> isinstance(a2_1, str)\nTrue",
         "failure_message": "a2_1 must be a string (i.e. surround your answer by either single or double quotes).",
         "hidden": false,
         "locked": false,
         "points": 0
        },
        {
         "code": ">>> test = True\n>>> if isinstance(a2_1, str):\n...     test = a2_1.lower() in ['a', 'b', 'c']\n>>> test\nTrue",
         "failure_message": "a2_1 must be one of 'a', 'b', or 'c'.",
         "hidden": false,
         "locked": false,
         "points": 0
        },
        {
         "code": ">>> PHYS121.get_hash(a2_1.lower()) == '92eb5ffee6ae2fec3ad71c777531578f'\nTrue",
         "failure_message": "Try again.  Remember that alpha > sin(alpha).",
         "hidden": false,
         "locked": false,
         "points": 1
        }
       ],
       "scored": true,
       "setup": "",
       "teardown": "",
       "type": "doctest"
      }
     ]
    },
    "q2.2": {
     "name": "q2.2",
     "points": null,
     "suites": [
      {
       "cases": [
        {
         "code": ">>> a2_2 != ...\nTrue",
         "failure_message": "Replace the ... with your answer.",
         "hidden": false,
         "locked": false,
         "points": 0
        },
        {
         "code": ">>> isinstance(a2_2, str)\nTrue",
         "failure_message": "a2_2 must be a string (i.e. surround your answer by either single or double quotes).",
         "hidden": false,
         "locked": false,
         "points": 0
        },
        {
         "code": ">>> test = True\n>>> if isinstance(a2_2, str):\n...     test = a2_2.lower() in ['a', 'b', 'c']\n>>> test\nTrue",
         "failure_message": "a2_2 must be one of 'a', 'b', or 'c'.",
         "hidden": false,
         "locked": false,
         "points": 0
        },
        {
         "code": ">>> PHYS121.get_hash(a2_2.lower()) == '92eb5ffee6ae2fec3ad71c777531578f'\nTrue",
         "failure_message": "Try again.  Remember that the small-angle approximation over estimates the acceleration of the pendulum bob.",
         "hidden": false,
         "locked": false,
         "points": 1
        }
       ],
       "scored": true,
       "setup": "",
       "teardown": "",
       "type": "doctest"
      }
     ]
    },
    "q4.0": {
     "name": "q4.0",
     "points": null,
     "suites": [
      {
       "cases": [
        {
         "code": ">>> test = False\n>>> if alpha0 != ...:\n...     test = True\n>>> test\nTrue",
         "failure_message": "Replace ... with the desired angle in degrees.",
         "hidden": false,
         "locked": false,
         "points": 0
        },
        {
         "code": ">>> isinstance(alpha0, float) or isinstance(alpha0, int)\nTrue",
         "failure_message": "The value you enter for alpha0 must be an integer or a float. Quotation marks are NOT required.",
         "hidden": false,
         "locked": false,
         "points": 0
        }
       ],
       "scored": true,
       "setup": "",
       "teardown": "",
       "type": "doctest"
      }
     ]
    },
    "q4.1": {
     "name": "q4.1",
     "points": null,
     "suites": [
      {
       "cases": [
        {
         "code": ">>> not any((isinstance(x, str) for x in TList))\nTrue",
         "failure_message": "At least one of your answers has been entered as a string.  Do NOT surround your answers by quotation marks.",
         "hidden": false,
         "locked": false,
         "points": 0
        },
        {
         "code": ">>> all((x != ... for x in TList)) and all((isinstance(x, float) for x in TList))\nTrue",
         "failure_message": "Replace each instance of ... with a decimal number.",
         "hidden": false,
         "locked": false,
         "points": 0
        },
        {
         "code": ">>> index = 0\n>>> angle = alpha0List[index]\n>>> math.isclose(TList[index], 4 * Tapprox / (1 + math.sqrt(math.cos(math.radians(angle) / 2))) ** 2, rel_tol=0.001)\nTrue",
         "failure_message": "Please double check your answer for alpha0 = 5 degrees.",
         "hidden": false,
         "locked": false,
         "points": 0.22
        },
        {
         "code": ">>> index = 1\n>>> angle = alpha0List[index]\n>>> math.isclose(TList[index], 4 * Tapprox / (1 + math.sqrt(math.cos(math.radians(angle) / 2))) ** 2, rel_tol=0.001)\nTrue",
         "failure_message": "Please double check your answer for alpha0 = 10 degrees.",
         "hidden": false,
         "locked": false,
         "points": 0.22
        },
        {
         "code": ">>> index = 2\n>>> angle = alpha0List[index]\n>>> math.isclose(TList[index], 4 * Tapprox / (1 + math.sqrt(math.cos(math.radians(angle) / 2))) ** 2, rel_tol=0.002)\nTrue",
         "failure_message": "Please double check your answer for alpha0 = 15 degrees.",
         "hidden": false,
         "locked": false,
         "points": 0.22
        },
        {
         "code": ">>> index = 3\n>>> angle = alpha0List[index]\n>>> math.isclose(TList[index], 4 * Tapprox / (1 + math.sqrt(math.cos(math.radians(angle) / 2))) ** 2, rel_tol=0.002)\nTrue",
         "failure_message": "Please double check your answer for alpha0 = 20 degrees.",
         "hidden": false,
         "locked": false,
         "points": 0.22
        },
        {
         "code": ">>> index = 4\n>>> angle = alpha0List[index]\n>>> math.isclose(TList[index], 4 * Tapprox / (1 + math.sqrt(math.cos(math.radians(angle) / 2))) ** 2, rel_tol=0.002)\nTrue",
         "failure_message": "Please double check your answer for alpha0 = 25 degrees.",
         "hidden": false,
         "locked": false,
         "points": 0.22
        },
        {
         "code": ">>> index = 5\n>>> angle = alpha0List[index]\n>>> math.isclose(TList[index], 4 * Tapprox / (1 + math.sqrt(math.cos(math.radians(angle) / 2))) ** 2, rel_tol=0.002)\nTrue",
         "failure_message": "Please double check your answer for alpha0 =30 degrees.",
         "hidden": false,
         "locked": false,
         "points": 0.22
        },
        {
         "code": ">>> index = 6\n>>> angle = alpha0List[index]\n>>> math.isclose(TList[index], 4 * Tapprox / (1 + math.sqrt(math.cos(math.radians(angle) / 2))) ** 2, rel_tol=0.002)\nTrue",
         "failure_message": "Please double check your answer for alpha0 = 35 degrees.",
         "hidden": false,
         "locked": false,
         "points": 0.22
        },
        {
         "code": ">>> index = 7\n>>> angle = alpha0List[index]\n>>> math.isclose(TList[index], 4 * Tapprox / (1 + math.sqrt(math.cos(math.radians(angle) / 2))) ** 2, rel_tol=0.002)\nTrue",
         "failure_message": "Please double check your answer for alpha0 = 40 degrees.",
         "hidden": false,
         "locked": false,
         "points": 0.23
        },
        {
         "code": ">>> index = 8\n>>> angle = alpha0List[index]\n>>> math.isclose(TList[index], 4 * Tapprox / (1 + math.sqrt(math.cos(math.radians(angle) / 2))) ** 2, rel_tol=0.002)\nTrue",
         "failure_message": "Please double check your answer for alpha0 = 45 degrees.",
         "hidden": false,
         "locked": false,
         "points": 0.23
        }
       ],
       "scored": true,
       "setup": "",
       "teardown": "",
       "type": "doctest"
      }
     ]
    }
   }
  }
 },
 "nbformat": 4,
 "nbformat_minor": 5
}
